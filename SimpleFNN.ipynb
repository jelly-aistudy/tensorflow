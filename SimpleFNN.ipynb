{
  "nbformat": 4,
  "nbformat_minor": 0,
  "metadata": {
    "colab": {
      "name": "SimpleFNN.ipynb",
      "provenance": [],
      "collapsed_sections": [],
      "authorship_tag": "ABX9TyNY4DTZTvBrB+b5ZuTc71xk"
    },
    "kernelspec": {
      "name": "python3",
      "display_name": "Python 3"
    },
    "language_info": {
      "name": "python"
    },
    "accelerator": "GPU"
  },
  "cells": [
    {
      "cell_type": "code",
      "metadata": {
        "colab": {
          "base_uri": "https://localhost:8080/",
          "height": 279
        },
        "id": "0fk7CrvrvK9E",
        "outputId": "727e930c-b621-4535-b6eb-70956f2fa6d4"
      },
      "source": [
        "import numpy as np\n",
        "import tensorflow as tf\n",
        "import matplotlib.pyplot as plt\n",
        "from tensorflow.keras import layers\n",
        "\n",
        "a = 8\n",
        "b = 3\n",
        "\n",
        "X = np.random.random(size=10000) \n",
        "Y = a * X + b + np.random.normal(scale=0.8, size=10000)\n",
        "X = np.array(X, dtype='float32')\n",
        "Y = np.array(Y, dtype='float32')\n",
        "\n",
        "plt.xlabel(\"X\")\n",
        "plt.ylabel(\"Y\")\n",
        "plt.plot(X, Y, \"o\", alpha = 0.5)\n",
        "plt.show()\n",
        "plt.close()"
      ],
      "execution_count": 2,
      "outputs": [
        {
          "output_type": "display_data",
          "data": {
            "image/png": "[encoded data removed]",
            "text/plain": [
              "<Figure size 432x288 with 1 Axes>"
            ]
          },
          "metadata": {
            "tags": [],
            "needs_background": "light"
          }
        }
      ]
    },
    {
      "cell_type": "code",
      "metadata": {
        "colab": {
          "base_uri": "https://localhost:8080/"
        },
        "id": "czosPimnvURj",
        "outputId": "16a7c6f0-dd81-4248-a81c-1ff00209f73e"
      },
      "source": [
        "# Step 1. Sequential\n",
        "tf.keras.backend.clear_session()\n",
        "\n",
        "model = tf.keras.Sequential()\n",
        "model.add(layers.Dense(1))\n",
        "\n",
        "model.compile(optimizer=tf.keras.optimizers.Adam(0.1), loss='mse')\n",
        "model.fit(X, Y, epochs = 10)\n",
        "model.summary()\n",
        "model.get_weights()"
      ],
      "execution_count": 3,
      "outputs": [
        {
          "output_type": "stream",
          "text": [
            "Epoch 1/10\n",
            "313/313 [==============================] - 3s 1ms/step - loss: 4.6165\n",
            "Epoch 2/10\n",
            "313/313 [==============================] - 0s 1ms/step - loss: 0.6738\n",
            "Epoch 3/10\n",
            "313/313 [==============================] - 0s 1ms/step - loss: 0.6467\n",
            "Epoch 4/10\n",
            "313/313 [==============================] - 0s 1ms/step - loss: 0.6462\n",
            "Epoch 5/10\n",
            "313/313 [==============================] - 0s 1ms/step - loss: 0.6476\n",
            "Epoch 6/10\n",
            "313/313 [==============================] - 0s 1ms/step - loss: 0.6475\n",
            "Epoch 7/10\n",
            "313/313 [==============================] - 0s 1ms/step - loss: 0.6485\n",
            "Epoch 8/10\n",
            "313/313 [==============================] - 0s 1ms/step - loss: 0.6491\n",
            "Epoch 9/10\n",
            "313/313 [==============================] - 0s 1ms/step - loss: 0.6510\n",
            "Epoch 10/10\n",
            "313/313 [==============================] - 0s 1ms/step - loss: 0.6524\n",
            "Model: \"sequential\"\n",
            "_________________________________________________________________\n",
            "Layer (type)                 Output Shape              Param #   \n",
            "=================================================================\n",
            "dense (Dense)                (None, 1)                 2         \n",
            "=================================================================\n",
            "Total params: 2\n",
            "Trainable params: 2\n",
            "Non-trainable params: 0\n",
            "_________________________________________________________________\n"
          ],
          "name": "stdout"
        },
        {
          "output_type": "execute_result",
          "data": {
            "text/plain": [
              "[array([[7.921265]], dtype=float32), array([3.0450165], dtype=float32)]"
            ]
          },
          "metadata": {
            "tags": []
          },
          "execution_count": 3
        }
      ]
    },
    {
      "cell_type": "code",
      "metadata": {
        "colab": {
          "base_uri": "https://localhost:8080/"
        },
        "id": "ldaxOlqqviiL",
        "outputId": "61b0570e-3034-479a-9217-efca40bbe227"
      },
      "source": [
        "# Step 2. Model\n",
        "tf.keras.backend.clear_session()\n",
        "\n",
        "inputs = tf.keras.layers.Input(shape=(1,))\n",
        "outputs = tf.keras.layers.Dense(1)(inputs)\n",
        "model = tf.keras.Model(inputs = inputs, outputs = outputs)\n",
        "\n",
        "model.compile(optimizer=tf.keras.optimizers.Adam(0.1), loss='mse')\n",
        "model.fit(X, Y, epochs = 10)\n",
        "model.summary()\n",
        "model.get_weights()"
      ],
      "execution_count": 4,
      "outputs": [
        {
          "output_type": "stream",
          "text": [
            "Epoch 1/10\n",
            "313/313 [==============================] - 1s 1ms/step - loss: 5.5898\n",
            "Epoch 2/10\n",
            "313/313 [==============================] - 0s 1ms/step - loss: 0.6971\n",
            "Epoch 3/10\n",
            "313/313 [==============================] - 0s 1ms/step - loss: 0.6469\n",
            "Epoch 4/10\n",
            "313/313 [==============================] - 0s 1ms/step - loss: 0.6478\n",
            "Epoch 5/10\n",
            "313/313 [==============================] - 0s 1ms/step - loss: 0.6475\n",
            "Epoch 6/10\n",
            "313/313 [==============================] - 0s 2ms/step - loss: 0.6489\n",
            "Epoch 7/10\n",
            "313/313 [==============================] - 0s 1ms/step - loss: 0.6481\n",
            "Epoch 8/10\n",
            "313/313 [==============================] - 0s 1ms/step - loss: 0.6496\n",
            "Epoch 9/10\n",
            "313/313 [==============================] - 0s 1ms/step - loss: 0.6497\n",
            "Epoch 10/10\n",
            "313/313 [==============================] - 0s 1ms/step - loss: 0.6497\n",
            "Model: \"model\"\n",
            "_________________________________________________________________\n",
            "Layer (type)                 Output Shape              Param #   \n",
            "=================================================================\n",
            "input_1 (InputLayer)         [(None, 1)]               0         \n",
            "_________________________________________________________________\n",
            "dense (Dense)                (None, 1)                 2         \n",
            "=================================================================\n",
            "Total params: 2\n",
            "Trainable params: 2\n",
            "Non-trainable params: 0\n",
            "_________________________________________________________________\n"
          ],
          "name": "stdout"
        },
        {
          "output_type": "execute_result",
          "data": {
            "text/plain": [
              "[array([[8.040156]], dtype=float32), array([3.028296], dtype=float32)]"
            ]
          },
          "metadata": {
            "tags": []
          },
          "execution_count": 4
        }
      ]
    },
    {
      "cell_type": "code",
      "metadata": {
        "colab": {
          "base_uri": "https://localhost:8080/"
        },
        "id": "1ONw32NyvsGz",
        "outputId": "14214d34-7f6c-4455-879b-2124de51c1eb"
      },
      "source": [
        "# Step 3. Custom\n",
        "tf.keras.backend.clear_session()\n",
        "\n",
        "class MyModel(tf.keras.Model):\n",
        "\n",
        "  def __init__(self):\n",
        "    super(MyModel, self).__init__()\n",
        "    self.dense1 = tf.keras.layers.Dense(1)\n",
        "\n",
        "  def call(self, inputs):\n",
        "    outputs = self.dense1(inputs)\n",
        "    return outputs\n",
        "\n",
        "model = MyModel()\n",
        "model.compile(optimizer=tf.keras.optimizers.Adam(0.1), loss='mse')\n",
        "model.fit(X, Y, epochs = 10)\n",
        "model.summary()\n",
        "model.get_weights()"
      ],
      "execution_count": 5,
      "outputs": [
        {
          "output_type": "stream",
          "text": [
            "Epoch 1/10\n",
            "313/313 [==============================] - 1s 1ms/step - loss: 2.9794\n",
            "Epoch 2/10\n",
            "313/313 [==============================] - 0s 1ms/step - loss: 0.6513\n",
            "Epoch 3/10\n",
            "313/313 [==============================] - 0s 1ms/step - loss: 0.6474\n",
            "Epoch 4/10\n",
            "313/313 [==============================] - 0s 1ms/step - loss: 0.6475\n",
            "Epoch 5/10\n",
            "313/313 [==============================] - 0s 1ms/step - loss: 0.6482\n",
            "Epoch 6/10\n",
            "313/313 [==============================] - 0s 1ms/step - loss: 0.6491\n",
            "Epoch 7/10\n",
            "313/313 [==============================] - 0s 1ms/step - loss: 0.6529\n",
            "Epoch 8/10\n",
            "313/313 [==============================] - 0s 1ms/step - loss: 0.6513\n",
            "Epoch 9/10\n",
            "313/313 [==============================] - 0s 1ms/step - loss: 0.6505\n",
            "Epoch 10/10\n",
            "313/313 [==============================] - 0s 1ms/step - loss: 0.6513\n",
            "Model: \"my_model\"\n",
            "_________________________________________________________________\n",
            "Layer (type)                 Output Shape              Param #   \n",
            "=================================================================\n",
            "dense (Dense)                multiple                  2         \n",
            "=================================================================\n",
            "Total params: 2\n",
            "Trainable params: 2\n",
            "Non-trainable params: 0\n",
            "_________________________________________________________________\n"
          ],
          "name": "stdout"
        },
        {
          "output_type": "execute_result",
          "data": {
            "text/plain": [
              "[array([[8.119732]], dtype=float32), array([3.04064], dtype=float32)]"
            ]
          },
          "metadata": {
            "tags": []
          },
          "execution_count": 5
        }
      ]
    },
    {
      "cell_type": "code",
      "metadata": {
        "colab": {
          "base_uri": "https://localhost:8080/"
        },
        "id": "4XcQftgbv2KD",
        "outputId": "e488c7f6-afd9-430a-bf70-bb0e492f1298"
      },
      "source": [
        "# Step 4. Gradient Tape\n",
        "tf.keras.backend.clear_session()\n",
        "\n",
        "model = MyModel()\n",
        "BUFFER_SIZE = len(X)\n",
        "BATCH_SIZE = 32\n",
        "# from_tensor_slices: the simplest way to create a dataset using list\n",
        "# shuffle: randomly shuffles the elements of this dataset\n",
        "# buffer_size: for perfect shuffling, a buffer size greater than or equal to the full size of the dataset is required\n",
        "dataset = tf.data.Dataset.from_tensor_slices(([[x] for x in X], Y)).shuffle(BUFFER_SIZE)\n",
        "# drop_remainder: if batch_size does not divide the number of input elements N evenly, then make sure to use drop_remainder True to prevent the smaller batch from being produced\n",
        "dataset = dataset.batch(BATCH_SIZE, drop_remainder=True)\n",
        "optimizer_adam = tf.keras.optimizers.Adam(0.1)\n",
        "loss_mse = tf.keras.losses.MeanSquaredError()\n",
        "\n",
        "@tf.function\n",
        "def train(model, dataset, optimizer):\n",
        "  loss = 0.\n",
        "  for x, y in dataset:\n",
        "    # automatic differentiation\n",
        "    with tf.GradientTape() as tape:\n",
        "      prediction = model(x)\n",
        "      loss = loss_mse(prediction, y)\n",
        "    gradients = tape.gradient(loss, model.trainable_variables)\n",
        "    optimizer.apply_gradients(zip(gradients, model.trainable_variables))\n",
        "  return loss\n",
        "\n",
        "NUM_EPOCHS = 10\n",
        "for epoch in range(NUM_EPOCHS):\n",
        "  loss = train(model, dataset, optimizer_adam)\n",
        "\n",
        "model.get_weights()"
      ],
      "execution_count": 11,
      "outputs": [
        {
          "output_type": "execute_result",
          "data": {
            "text/plain": [
              "[array([[8.102883]], dtype=float32), array([2.936888], dtype=float32)]"
            ]
          },
          "metadata": {
            "tags": []
          },
          "execution_count": 11
        }
      ]
    }
  ]
}